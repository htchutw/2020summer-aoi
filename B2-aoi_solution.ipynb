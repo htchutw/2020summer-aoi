{
 "cells": [
  {
   "cell_type": "markdown",
   "metadata": {
    "colab_type": "text",
    "id": "vpfvx3zSO-je"
   },
   "source": [
    "<table width=\"100%\" border=\"3\">\n",
    "  <tbody>\n",
    "    <tr>\n",
    "      <td ><img src=\"https://aidea-web.tw/images/web/logo_white.png\" alt=\"Aidea\" width=\"400\"/></td>\n",
    "      <td align='left'><h1>Exercise 2: Basic AOI algorithm </h1></td>\n",
    "    </tr>\n",
    "  </tbody>\n",
    "</table>"
   ]
  },
  {
   "cell_type": "markdown",
   "metadata": {
    "colab_type": "text",
    "id": "ZOuhb2IiDVpm"
   },
   "source": [
    "# AU AI Summer Programs 2020\n",
    "* This tutorial uses the AOI dataset of the AIdea platform.\n",
    "* Introduce how to write deep learning programs to classify defects in automatic optical inspection.\n",
    "* This notebook program can be executed in the cloud using Google Colab or Jupyter on a personal computer.\n",
    "\n",
    "AUAI Summer AOI Project\n",
    "https://aidea-web.tw/topic/a49e3f76-69c9-4a4a-bcfc-c882840b3f27\n",
    "\n",
    "Pro.Hsueh-Ting Chu EMAIL: htchu.taiwan@gmail.com  FB: https://www.facebook.com/htchu.taiwan\n",
    "\n",
    "# Exercise 2: Simple solution\n",
    "* single CNN model\n",
    "* ImageDataGenerator\n",
    "* ModelCheckpoint\n",
    "* EarlyStopping\n",
    "* Submit results"
   ]
  },
  {
   "cell_type": "markdown",
   "metadata": {
    "colab_type": "text",
    "id": "bXEzgNlpP_sv"
   },
   "source": [
    "## Step 1: Load the dataset from google drive"
   ]
  },
  {
   "cell_type": "code",
   "execution_count": null,
   "metadata": {
    "colab": {},
    "colab_type": "code",
    "id": "7VE-8D4WP-zd"
   },
   "outputs": [],
   "source": [
    "from google_drive_downloader import GoogleDriveDownloader\n",
    "GoogleDriveDownloader.download_file_from_google_drive(file_id='1tovCO2gsjesjJ8OsfHgahyt-buY34dk0',dest_path='./content', unzip=True)"
   ]
  },
  {
   "cell_type": "markdown",
   "metadata": {
    "colab_type": "text",
    "id": "kHlgUk9qQLRu"
   },
   "source": [
    "## Step 2: Import python libraries"
   ]
  },
  {
   "cell_type": "code",
   "execution_count": null,
   "metadata": {
    "colab": {},
    "colab_type": "code",
    "id": "OCJBD9x1Bv8n"
   },
   "outputs": [],
   "source": [
    "import tensorflow as tf\n",
    "tf.config.experimental.set_memory_growth(tf.config.list_physical_devices('GPU')[0], True)\n",
    "print(tf.__version__)\n",
    "print(tf.config.list_physical_devices('GPU'))"
   ]
  },
  {
   "cell_type": "code",
   "execution_count": null,
   "metadata": {
    "colab": {},
    "colab_type": "code",
    "id": "Gl5ZMXU3S_rH"
   },
   "outputs": [],
   "source": [
    "import numpy as np\n",
    "import matplotlib.pyplot as plt\n",
    "%matplotlib inline"
   ]
  },
  {
   "cell_type": "code",
   "execution_count": null,
   "metadata": {
    "colab": {},
    "colab_type": "code",
    "id": "cLyRMQLrFUpY"
   },
   "outputs": [],
   "source": [
    "from tensorflow.keras import Sequential\n",
    "from tensorflow.keras.models import Model\n",
    "from tensorflow.keras.layers import Dense, Activation, Flatten\n",
    "from tensorflow.keras.layers import Input\n",
    "from tensorflow.keras.layers import Dropout, Flatten, Activation\n",
    "from tensorflow.keras.layers import Conv2D, MaxPooling2D\n",
    "from tensorflow.keras.optimizers import Adam,SGD,Adagrad,Adadelta,RMSprop"
   ]
  },
  {
   "cell_type": "markdown",
   "metadata": {
    "colab_type": "text",
    "id": "4TXVhSDQQXXO"
   },
   "source": [
    "## Step 3: read the training set"
   ]
  },
  {
   "cell_type": "code",
   "execution_count": null,
   "metadata": {
    "colab": {},
    "colab_type": "code",
    "id": "pL3o453NU26h"
   },
   "outputs": [],
   "source": [
    "import pandas as pd\n",
    "df_train = pd.read_csv(\" \",dtype=   )\n",
    "print(df_train.shape)"
   ]
  },
  {
   "cell_type": "code",
   "execution_count": null,
   "metadata": {
    "colab": {},
    "colab_type": "code",
    "id": "tuDemzs5VKFk"
   },
   "outputs": [],
   "source": [
    "df_train.head()"
   ]
  },
  {
   "cell_type": "code",
   "execution_count": null,
   "metadata": {
    "colab": {},
    "colab_type": "code",
    "id": "-cVo6Gq4FApt"
   },
   "outputs": [],
   "source": [
    "train_files = df_train.iloc[:,0].values\n",
    "train_labels = df_train.iloc[:,1].values\n",
    "print(train_labels[:10])"
   ]
  },
  {
   "cell_type": "markdown",
   "metadata": {
    "colab_type": "text",
    "id": "PbZydP89TWuN"
   },
   "source": [
    "## Step 4: Show statistics of training images "
   ]
  },
  {
   "cell_type": "code",
   "execution_count": null,
   "metadata": {
    "colab": {},
    "colab_type": "code",
    "id": "TtQV07_cFK7Y"
   },
   "outputs": [],
   "source": [
    "import seaborn as sns\n",
    "g = sns.countplot(train_labels)"
   ]
  },
  {
   "cell_type": "code",
   "execution_count": null,
   "metadata": {
    "colab": {},
    "colab_type": "code",
    "id": "8YKcKTBabLig"
   },
   "outputs": [],
   "source": [
    "num_classes=6"
   ]
  },
  {
   "cell_type": "markdown",
   "metadata": {
    "colab_type": "text",
    "id": "9VfcJvPCTwjX"
   },
   "source": [
    "## Step 5: Choose one of CNN models \n",
    "* DenseNet121(...): Instantiates the Densenet121 architecture.\n",
    "* DenseNet169(...): Instantiates the Densenet169 architecture.\n",
    "* DenseNet201(...): Instantiates the Densenet201 architecture.\n",
    "* InceptionResNetV2(...): Instantiates the Inception-ResNet v2 architecture.\n",
    "* InceptionV3(...): Instantiates the Inception v3 architecture.\n",
    "* MobileNet(...): Instantiates the MobileNet architecture.\n",
    "* MobileNetV2(...): Instantiates the MobileNetV2 architecture.\n",
    "* NASNetLarge(...): Instantiates a NASNet model in ImageNet mode.\n",
    "* NASNetMobile(...): Instantiates a Mobile NASNet model in ImageNet mode.\n",
    "* ResNet101(...): Instantiates the ResNet101 architecture.\n",
    "* ResNet101V2(...): Instantiates the ResNet101V2 architecture.\n",
    "* ResNet152(...): Instantiates the ResNet152 architecture.\n",
    "* ResNet152V2(...): Instantiates the ResNet152V2 architecture.\n",
    "* ResNet50(...): Instantiates the ResNet50 architecture.\n",
    "* ResNet50V2(...): Instantiates the ResNet50V2 architecture.\n",
    "* VGG16(...): Instantiates the VGG16 model.\n",
    "* VGG19(...): Instantiates the VGG19 architecture.\n",
    "* Xception(...): Instantiates the Xception architecture.\n"
   ]
  },
  {
   "cell_type": "code",
   "execution_count": null,
   "metadata": {
    "colab": {},
    "colab_type": "code",
    "id": "ndL1lGGwEsOM"
   },
   "outputs": [],
   "source": [
    "from tensorflow.keras.applications import InceptionV3\n",
    "model = InceptionV3(include_top = True, input_shape=(299,299,3), weights=None, classes=num_classes)"
   ]
  },
  {
   "cell_type": "code",
   "execution_count": null,
   "metadata": {
    "colab": {},
    "colab_type": "code",
    "id": "MARzRhyY49NB"
   },
   "outputs": [],
   "source": [
    "model.summary()"
   ]
  },
  {
   "cell_type": "markdown",
   "metadata": {
    "colab_type": "text",
    "id": "xQgZdcYwUVqG"
   },
   "source": [
    "## Step 6: Instancing an ImageDataGenerator"
   ]
  },
  {
   "cell_type": "code",
   "execution_count": null,
   "metadata": {
    "colab": {},
    "colab_type": "code",
    "id": "2FglrsMfXMBC"
   },
   "outputs": [],
   "source": [
    "from tensorflow.keras.preprocessing.image import ImageDataGenerator\n",
    "from tensorflow.keras.applications.xception import preprocess_input\n",
    "img_gen = ImageDataGenerator(preprocessing_function=)"
   ]
  },
  {
   "cell_type": "markdown",
   "metadata": {
    "colab_type": "text",
    "id": "s5oRwE1UUiFf"
   },
   "source": [
    "## Step 7: Set up a train_generator with flow_from_dataframe"
   ]
  },
  {
   "cell_type": "code",
   "execution_count": null,
   "metadata": {
    "colab": {},
    "colab_type": "code",
    "id": "gIAZ72MWSzmb"
   },
   "outputs": [],
   "source": [
    "train_generator = img_gen.flow_from_dataframe(dataframe=df_ttttt,\n",
    "            directory=\"xxxxxxxxxxx\",\n",
    "            x_col=\"II\",\n",
    "            y_col=\"LLLLL\",\n",
    "            subset=None,\n",
    "            batch_size=8,\n",
    "            shuffle=False,\n",
    "            class_mode=\"categorical\",\n",
    "            color_mode=\"rgb\",\n",
    "            target_size=(299,299))"
   ]
  },
  {
   "cell_type": "code",
   "execution_count": null,
   "metadata": {
    "colab": {},
    "colab_type": "code",
    "id": "CzqOQhERYbGs"
   },
   "outputs": [],
   "source": [
    "train_generator.class_indices"
   ]
  },
  {
   "cell_type": "markdown",
   "metadata": {
    "colab_type": "text",
    "id": "n3FgxCjpVG3H"
   },
   "source": [
    "## Step 8: step_size_train"
   ]
  },
  {
   "cell_type": "code",
   "execution_count": null,
   "metadata": {
    "colab": {},
    "colab_type": "code",
    "id": "Fu7E0m3ucZCJ"
   },
   "outputs": [],
   "source": [
    "if train_generator.n % train_generator.batch_size ==0:\n",
    "  step_size_train=train_generator.n//train_generator.batch_size\n",
    "else:\n",
    "  step_size_train=train_generator.n//train_generator.batch_size + 1\n",
    "print(step_size_train)"
   ]
  },
  {
   "cell_type": "markdown",
   "metadata": {
    "colab_type": "text",
    "id": "0cggn0VQVJUa"
   },
   "source": [
    "## Step 9: ModelCheckpoint"
   ]
  },
  {
   "cell_type": "code",
   "execution_count": null,
   "metadata": {
    "colab": {},
    "colab_type": "code",
    "id": "VgdfV2r-K7Hj"
   },
   "outputs": [],
   "source": [
    "# Include the epoch in the file name (uses `str.format`)\n",
    "import os\n",
    "checkpoint_path = \"training_cp/cp-{epoch:03d}.ckpt\"\n",
    "checkpoint_dir = os.path.dirname(checkpoint_path)\n",
    "# Create a callback that saves the model's weights \n",
    "cp_callback = tf.keras.callbacks.ModelCheckpoint(filepath=       , save_weights_only=True)"
   ]
  },
  {
   "cell_type": "markdown",
   "metadata": {
    "colab_type": "text",
    "id": "GUSuhwUzVPVH"
   },
   "source": [
    "## Step 10: EarlyStopping"
   ]
  },
  {
   "cell_type": "code",
   "execution_count": null,
   "metadata": {
    "colab": {},
    "colab_type": "code",
    "id": "MeWdoKDPLEoG"
   },
   "outputs": [],
   "source": [
    "# Create a callback that stop the model \n",
    "es_callback = tf.keras.callbacks.EarlyStopping(monitor='', patience=5)"
   ]
  },
  {
   "cell_type": "markdown",
   "metadata": {
    "colab_type": "text",
    "id": "_s2HkH4iVWJp"
   },
   "source": [
    "## Step 11: Compile model"
   ]
  },
  {
   "cell_type": "code",
   "execution_count": null,
   "metadata": {
    "colab": {},
    "colab_type": "code",
    "id": "2ILyWZe8G1cX"
   },
   "outputs": [],
   "source": [
    "#compile model using accuracy to measure model performance\n",
    "from tensorflow.keras import optimizers\n",
    "model.compile(loss='categorical_crossentropy',\n",
    "            optimizer=optimizers.Adam(lr=3e-3),\n",
    "            metrics=['accuracy'])"
   ]
  },
  {
   "cell_type": "markdown",
   "metadata": {
    "colab_type": "text",
    "id": "AjzOG579Vcxx"
   },
   "source": [
    "## Step 12: Train model"
   ]
  },
  {
   "cell_type": "code",
   "execution_count": null,
   "metadata": {
    "colab": {},
    "colab_type": "code",
    "id": "31K9h5ePJ5-O"
   },
   "outputs": [],
   "source": [
    "hist = model.fit_generator(generator=ttttt_generator, steps_per_epoch=sssssssssss, callbacks=[, ], epochs=100)"
   ]
  },
  {
   "cell_type": "markdown",
   "metadata": {
    "colab_type": "text",
    "id": "XKKEeCDJVufY"
   },
   "source": [
    "## Step 13: Evaluate saved checkpoints"
   ]
  },
  {
   "cell_type": "code",
   "execution_count": null,
   "metadata": {
    "colab": {},
    "colab_type": "code",
    "id": "-hzIeF9RMBHg"
   },
   "outputs": [],
   "source": [
    "##checkpoint 1\n",
    "model.load_weights(\"training_cp/cp-001.ckpt\")\n",
    "train_generator.reset()\n",
    "model.evaluate_generator(generator=train_generator, steps=step_size_train, verbose=1)"
   ]
  },
  {
   "cell_type": "code",
   "execution_count": null,
   "metadata": {
    "colab": {},
    "colab_type": "code",
    "id": "13RQaTOPXz8Z"
   },
   "outputs": [],
   "source": [
    "##checkpoint 2\n",
    "model.load_weights(\"training_cp/cp-001.ckpt\")\n",
    "train_generator.reset()\n",
    "model.evaluate_generator(generator=train_generator, steps=step_size_train, verbose=1)"
   ]
  },
  {
   "cell_type": "code",
   "execution_count": null,
   "metadata": {
    "colab": {},
    "colab_type": "code",
    "id": "zxpAhXHWX0lN"
   },
   "outputs": [],
   "source": [
    "##checkpoint 3\n",
    "model.load_weights(\"training_cp/cp-001.ckpt\")\n",
    "train_generator.reset()\n",
    "model.evaluate_generator(generator=train_generator, steps=step_size_train, verbose=1)"
   ]
  },
  {
   "cell_type": "markdown",
   "metadata": {
    "colab_type": "text",
    "id": "rJ9oNZwlYCLk"
   },
   "source": [
    "## Step 14: Save the trained model"
   ]
  },
  {
   "cell_type": "code",
   "execution_count": null,
   "metadata": {
    "colab": {},
    "colab_type": "code",
    "id": "0ZuxezvUMV0W"
   },
   "outputs": [],
   "source": [
    "model.load_weights(\"training_cp/cp-001.ckpt\")\n",
    "model.save(\"AOI-InceptionV3-0626.h5\")"
   ]
  },
  {
   "cell_type": "markdown",
   "metadata": {
    "colab_type": "text",
    "id": "E4Kdl8aBYWpQ"
   },
   "source": [
    "## Step 15: Check training results"
   ]
  },
  {
   "cell_type": "code",
   "execution_count": null,
   "metadata": {
    "colab": {},
    "colab_type": "code",
    "id": "snwxn3uEidj8"
   },
   "outputs": [],
   "source": [
    "#y_predictions = model.predict(X_train, batch_size=20)\n",
    "train_generator.reset()\n",
    "y_predictions = model.predict_generator(generator=, steps=step_size_train, verbose=1)"
   ]
  },
  {
   "cell_type": "code",
   "execution_count": null,
   "metadata": {
    "colab": {},
    "colab_type": "code",
    "id": "-3LFfE8bPjOD"
   },
   "outputs": [],
   "source": [
    "print(y_predictions[:2])\n",
    "type(y_predictions)"
   ]
  },
  {
   "cell_type": "code",
   "execution_count": null,
   "metadata": {
    "colab": {},
    "colab_type": "code",
    "id": "Apz1b0obPql5"
   },
   "outputs": [],
   "source": [
    "predicts = np.argmax(y_predictions,axis=1)\n",
    "print(predicts[0:10])"
   ]
  },
  {
   "cell_type": "code",
   "execution_count": null,
   "metadata": {
    "colab": {},
    "colab_type": "code",
    "id": "U8KJfM2AVNIg"
   },
   "outputs": [],
   "source": [
    "labels = train_labels.astype(int)\n",
    "print(labels[:10])"
   ]
  },
  {
   "cell_type": "markdown",
   "metadata": {
    "colab_type": "text",
    "id": "0K0X0oUSZMCl"
   },
   "source": [
    "## Step 16: Analyze training results\n"
   ]
  },
  {
   "cell_type": "code",
   "execution_count": null,
   "metadata": {
    "colab": {},
    "colab_type": "code",
    "id": "aZ3NL3iNVYFy"
   },
   "outputs": [],
   "source": [
    "from sklearn.metrics import confusion_matrix\n",
    "confusion=confusion_matrix(llllll, pppppp)\n",
    "print(confusion)"
   ]
  },
  {
   "cell_type": "code",
   "execution_count": null,
   "metadata": {
    "colab": {},
    "colab_type": "code",
    "id": "AEwJyegWXWKW"
   },
   "outputs": [],
   "source": [
    "overkill= []\n",
    "underkill = []\n",
    "for i in range(train_num):\n",
    "  if labels[i] == 0 and predicts[i] !=0:\n",
    "    overkill.append(i)\n",
    "  if labels[i] != 0 and predicts[i] ==0:\n",
    "    underkill.append(i)\n",
    "print('# of overkill= {}; # of underkill= {} '.format(len(overkill), len(underkill)))"
   ]
  },
  {
   "cell_type": "markdown",
   "metadata": {
    "colab_type": "text",
    "id": "oB5cwshcZdRo"
   },
   "source": [
    "## Step 17: Load the test set "
   ]
  },
  {
   "cell_type": "code",
   "execution_count": null,
   "metadata": {
    "colab": {},
    "colab_type": "code",
    "id": "gH3N656tHvVF"
   },
   "outputs": [],
   "source": [
    "df_test = pd.read_csv(\"\",dtype=str)\n",
    "print(df_test.shape)"
   ]
  },
  {
   "cell_type": "code",
   "execution_count": null,
   "metadata": {
    "colab": {},
    "colab_type": "code",
    "id": "hukndpFCnTBM"
   },
   "outputs": [],
   "source": [
    "df_test.head()"
   ]
  },
  {
   "cell_type": "code",
   "execution_count": null,
   "metadata": {
    "colab": {},
    "colab_type": "code",
    "id": "26sEKiQYH2sr"
   },
   "outputs": [],
   "source": [
    "test_files  = df_test.iloc[:,0].values\n",
    "test_labels = df_test.iloc[:,1].values\n",
    "print(test_labels[:10])"
   ]
  },
  {
   "cell_type": "markdown",
   "metadata": {
    "colab_type": "text",
    "id": "_BLG-wtcZvze"
   },
   "source": [
    "## Step 18: Set up a test_generator with flow_from_dataframe"
   ]
  },
  {
   "cell_type": "code",
   "execution_count": null,
   "metadata": {
    "colab": {},
    "colab_type": "code",
    "id": "rjzR0cmDjPT-"
   },
   "outputs": [],
   "source": [
    "test_generator = img_gen.flow_from_dataframe(dataframe=ddddddd,\n",
    "            directory=\"tttttttttt\",\n",
    "            x_col=\"ID\",\n",
    "            y_col=\"Label\",\n",
    "            batch_size=32,\n",
    "            shuffle=False,\n",
    "            class_mode=NNNN,\n",
    "            target_size=(299,299))"
   ]
  },
  {
   "cell_type": "markdown",
   "metadata": {
    "colab_type": "text",
    "id": "WkKvBn2paAYi"
   },
   "source": [
    "## Step 19: step_size_test"
   ]
  },
  {
   "cell_type": "code",
   "execution_count": null,
   "metadata": {
    "colab": {},
    "colab_type": "code",
    "id": "c3z-YfOEn0UF"
   },
   "outputs": [],
   "source": [
    "if test_generator.n % test_generator.batch_size ==0:\n",
    "  step_size_test=test_generator.n//test_generator.batch_size\n",
    "else:\n",
    "  step_size_test=test_generator.n//test_generator.batch_size + 1\n",
    "print(step_size_test)"
   ]
  },
  {
   "cell_type": "markdown",
   "metadata": {
    "colab_type": "text",
    "id": "wzBR-D2-abER"
   },
   "source": [
    "## Step 20: Check test results"
   ]
  },
  {
   "cell_type": "code",
   "execution_count": null,
   "metadata": {
    "colab": {},
    "colab_type": "code",
    "id": "chRywd4OnsFK"
   },
   "outputs": [],
   "source": [
    "#y_predictions = model.predict(X_train, batch_size=20)\n",
    "test_generator.reset()\n",
    "y_predictions = model.predict_generator(generator=test_generator, steps=step_size_test,verbose=1)"
   ]
  },
  {
   "cell_type": "code",
   "execution_count": null,
   "metadata": {
    "colab": {},
    "colab_type": "code",
    "id": "9UyO5HWMkRl4"
   },
   "outputs": [],
   "source": [
    "import numpy as np\n",
    "predicts=np.argmax(y_predictions,axis=1)\n",
    "predicts[:10]"
   ]
  },
  {
   "cell_type": "markdown",
   "metadata": {
    "colab_type": "text",
    "id": "iqkymIOfaeg1"
   },
   "source": [
    "## Step 21: Output test results"
   ]
  },
  {
   "cell_type": "code",
   "execution_count": null,
   "metadata": {
    "colab": {},
    "colab_type": "code",
    "id": "0sXBA6kypHZd"
   },
   "outputs": [],
   "source": [
    "df_out = pd.DataFrame(df_test)\n",
    "df_out.shape"
   ]
  },
  {
   "cell_type": "code",
   "execution_count": null,
   "metadata": {
    "colab": {},
    "colab_type": "code",
    "id": "Z5sYBeoVIAKA"
   },
   "outputs": [],
   "source": [
    "df_out['Label'] = predicts\n",
    "df_out.to_csv(\"0626-xception.csv\", index=False)"
   ]
  }
 ],
 "metadata": {
  "accelerator": "GPU",
  "colab": {
   "collapsed_sections": [],
   "name": "aidea_aoi_ex2.ipynb",
   "provenance": [],
   "toc_visible": true
  },
  "kernelspec": {
   "display_name": "Python 3",
   "language": "python",
   "name": "python3"
  },
  "language_info": {
   "codemirror_mode": {
    "name": "ipython",
    "version": 3
   },
   "file_extension": ".py",
   "mimetype": "text/x-python",
   "name": "python",
   "nbconvert_exporter": "python",
   "pygments_lexer": "ipython3",
   "version": "3.7.6"
  }
 },
 "nbformat": 4,
 "nbformat_minor": 1
}
