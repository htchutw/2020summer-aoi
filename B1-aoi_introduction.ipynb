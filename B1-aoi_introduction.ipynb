{
 "cells": [
  {
   "cell_type": "markdown",
   "metadata": {
    "colab_type": "text",
    "id": "0KvrRl029pPB"
   },
   "source": [
    "<table width=\"100%\" border=\"3\">\n",
    "  <tbody>\n",
    "    <tr>\n",
    "      <td ><img src=\"https://aidea-web.tw/images/web/logo_white.png\" alt=\"Aidea\" width=\"400\"/></td>\n",
    "      <td align='left'><h1>Exercise 1: Introduction to AIdea AOI(Begin)</h1></td>\n",
    "    </tr>\n",
    "  </tbody>\n",
    "</table>\n"
   ]
  },
  {
   "cell_type": "markdown",
   "metadata": {
    "colab_type": "text",
    "id": "yhFS0k6edj4s"
   },
   "source": [
    "# AU AI Summer Programs 2020\n",
    "* This tutorial uses the AOI dataset of the AIdea platform.\n",
    "* Introduce how to write deep learning programs to classify defects in automatic optical inspection.\n",
    "* This notebook program can be executed in the cloud using Google Colab or Jupyter on a personal computer.\n",
    "\n",
    "AUAI Summer AOI Project\n",
    "https://aidea-web.tw/topic/a49e3f76-69c9-4a4a-bcfc-c882840b3f27\n",
    "\n",
    "Pro.Hsueh-Ting Chu EMAIL: htchu.taiwan@gmail.com  FB: https://www.facebook.com/htchu.taiwan\n",
    "\n",
    "# Exercise 1: AIdea AOI & TensorFlow\n",
    "* AIdea AOI project\n",
    "* TensorFlow 2.0"
   ]
  },
  {
   "cell_type": "markdown",
   "metadata": {
    "colab_type": "text",
    "id": "BkguTuu0doDW"
   },
   "source": [
    "# (A) AIdea dataset\n"
   ]
  },
  {
   "cell_type": "markdown",
   "metadata": {
    "colab_type": "text",
    "id": "sMzNhOKcFJTV"
   },
   "source": [
    "## Step 1: Load the AIdea AOI dataset from google drive"
   ]
  },
  {
   "cell_type": "code",
   "execution_count": null,
   "metadata": {
    "colab": {},
    "colab_type": "code",
    "id": "l6aE0y5oc8Ec"
   },
   "outputs": [],
   "source": [
    "from google_drive_downloader import GoogleDriveDownloader\n",
    "GoogleDriveDownloader.download_file_from_google_drive(file_id='1tovCO2gsjesjJ8OsfHgahyt-buY34dk0',dest_path='./content', unzip=True)"
   ]
  },
  {
   "cell_type": "markdown",
   "metadata": {
    "colab_type": "text",
    "id": "jR_KADlQk7Gs"
   },
   "source": [
    "## Step 2: read the training set"
   ]
  },
  {
   "cell_type": "code",
   "execution_count": null,
   "metadata": {
    "colab": {},
    "colab_type": "code",
    "id": "iaFX5Cqgicw0"
   },
   "outputs": [],
   "source": [
    "import pandas as pd\n",
    "df_train = pd.read_csv(\"       \")\n",
    "print(df_train.shape)"
   ]
  },
  {
   "cell_type": "code",
   "execution_count": null,
   "metadata": {
    "colab": {},
    "colab_type": "code",
    "id": "6dwc7F7dioM7"
   },
   "outputs": [],
   "source": [
    "df_train.head()"
   ]
  },
  {
   "cell_type": "markdown",
   "metadata": {
    "colab_type": "text",
    "id": "WHjI9HpmRfac"
   },
   "source": [
    "## Step 3: Build the lists of training images and labels from the dataframe"
   ]
  },
  {
   "cell_type": "code",
   "execution_count": null,
   "metadata": {
    "colab": {},
    "colab_type": "code",
    "id": "LizhcbfXis75"
   },
   "outputs": [],
   "source": [
    "train_files = df_train.iloc[:, ].values\n",
    "train_labels = df_train.iloc[:, ].values\n",
    "print(train_labels[:10])"
   ]
  },
  {
   "cell_type": "markdown",
   "metadata": {
    "colab_type": "text",
    "id": "uImM5L4DlG4X"
   },
   "source": [
    "## Step 4: read images of the training set"
   ]
  },
  {
   "cell_type": "code",
   "execution_count": null,
   "metadata": {
    "colab": {},
    "colab_type": "code",
    "id": "V2GH166li2f6"
   },
   "outputs": [],
   "source": [
    "train_path =\"xxxxx_images/\"\n",
    "train_images = []\n",
    "from tensorflow.keras.preprocessing import image\n",
    "for file in train_files:\n",
    "    img = image.load_img(train_path+file, color_mode=\"rgb\", target_size = (299, 299))\n",
    "    train_images\n",
    "    if len(train_images)%100 == 0:\n",
    "      print('.', end='')\n",
    "print(len(train_images))"
   ]
  },
  {
   "cell_type": "markdown",
   "metadata": {
    "colab_type": "text",
    "id": "acQAGGlik5Gz"
   },
   "source": [
    "## Step 5: show AOI images of the classes: \n",
    "0 (normal), 1 (void), 2 (horizontal  defect) 3 (vertical defect), 4 (edge defect), 5 (particle)"
   ]
  },
  {
   "cell_type": "code",
   "execution_count": null,
   "metadata": {
    "colab": {},
    "colab_type": "code",
    "id": "TqB5T0_yk21r"
   },
   "outputs": [],
   "source": [
    "import matplotlib.pyplot as plt\n",
    "%matplotlib inline"
   ]
  },
  {
   "cell_type": "code",
   "execution_count": null,
   "metadata": {
    "colab": {},
    "colab_type": "code",
    "id": "8xBuhRnLlmTM"
   },
   "outputs": [],
   "source": [
    "import random\n",
    "curclass = 0\n",
    "fig,ax=plt.subplots(2, 3)\n",
    "fig.set_size_inches(10,10)\n",
    "for i in range(2):\n",
    "    for j in range (3):\n",
    "        sel=random.randint(0,train_num)\n",
    "        while train_labels[sel]!=curclass:\n",
    "          sel +=1\n",
    "          if sel == train_num -1:\n",
    "            sel = 0\n",
    "        curclass += 1\n",
    "        curclass %= 6\n",
    "        #sel=random.randint(0,train_num)\n",
    "        ax[i,j].imshow(train_images[sel], cmap='gray')\n",
    "        ax[i,j].set_title('No. {} Label:{} '.format(sel, train_labels[sel]))       \n",
    "plt.tight_layout()"
   ]
  },
  {
   "cell_type": "code",
   "execution_count": null,
   "metadata": {
    "colab": {},
    "colab_type": "code",
    "id": "uA2AWBT09Klk"
   },
   "outputs": [],
   "source": [
    "# Class 0-normal\n",
    "import random\n",
    "curclass = 0\n",
    "fig,ax=plt.subplots(2, 3)\n",
    "fig.set_size_inches(10,10)\n",
    "for i in range(2):\n",
    "    for j in range (3):\n",
    "        sel=random.randint(0,train_num)\n",
    "        while train_labels[sel]!=curclass:\n",
    "          sel +=1\n",
    "          if sel == train_num -1:\n",
    "            sel = 0\n",
    "        #sel=random.randint(0,train_num)\n",
    "        ax[i,j].imshow(train_images[sel], cmap='gray')\n",
    "        ax[i,j].set_title('No. {} Label:{} '.format(sel, train_labels[sel]))       \n",
    "plt.tight_layout()"
   ]
  },
  {
   "cell_type": "code",
   "execution_count": null,
   "metadata": {
    "colab": {},
    "colab_type": "code",
    "id": "zvcrqsuM9Zof"
   },
   "outputs": [],
   "source": [
    "# Class 1-void\n",
    "import random\n",
    "curclass = 1\n",
    "fig,ax=plt.subplots(2, 3)\n",
    "fig.set_size_inches(10,10)\n",
    "for i in range(2):\n",
    "    for j in range (3):\n",
    "        sel=random.randint(0,train_num)\n",
    "        while train_labels[sel]!=curclass:\n",
    "          sel +=1\n",
    "          if sel == train_num -1:\n",
    "            sel = 0\n",
    "        #sel=random.randint(0,train_num)\n",
    "        ax[i,j].imshow(train_images[sel], cmap='gray')\n",
    "        ax[i,j].set_title('No. {} Label:{} '.format(sel, train_labels[sel]))       \n",
    "plt.tight_layout()"
   ]
  },
  {
   "cell_type": "code",
   "execution_count": null,
   "metadata": {
    "colab": {},
    "colab_type": "code",
    "id": "ttimxvzo9mgs"
   },
   "outputs": [],
   "source": [
    "# Class 2-horizontal defect\n",
    "import random\n",
    "curclass = 1\n",
    "fig,ax=plt.subplots(2, 3)\n",
    "fig.set_size_inches(10,10)\n",
    "for i in range(2):\n",
    "    for j in range (3):\n",
    "        sel=random.randint(0,train_num)\n",
    "        while train_labels[sel]!=curclass:\n",
    "          sel +=1\n",
    "          if sel == train_num -1:\n",
    "            sel = 0\n",
    "        #sel=random.randint(0,train_num)\n",
    "        ax[i,j].imshow(train_images[sel], cmap='gray')\n",
    "        ax[i,j].set_title('No. {} Label:{} '.format(sel, train_labels[sel]))       \n",
    "plt.tight_layout()"
   ]
  },
  {
   "cell_type": "code",
   "execution_count": null,
   "metadata": {
    "colab": {},
    "colab_type": "code",
    "id": "1xRwCCZt9vyS"
   },
   "outputs": [],
   "source": [
    "# Class 3-vertical defect\n",
    "import random\n",
    "curclass = 3\n",
    "fig,ax=plt.subplots(2, 3)\n",
    "fig.set_size_inches(10,10)\n",
    "for i in range(2):\n",
    "    for j in range (3):\n",
    "        sel=random.randint(0,train_num)\n",
    "        while train_labels[sel]!=curclass:\n",
    "          sel +=1\n",
    "          if sel == train_num -1:\n",
    "            sel = 0\n",
    "        #sel=random.randint(0,train_num)\n",
    "        ax[i,j].imshow(train_images[sel], cmap='gray')\n",
    "        ax[i,j].set_title('No. {} Label:{} '.format(sel, train_labels[sel]))       \n",
    "plt.tight_layout()"
   ]
  },
  {
   "cell_type": "code",
   "execution_count": null,
   "metadata": {
    "colab": {},
    "colab_type": "code",
    "id": "avZBx0Lq9ymv"
   },
   "outputs": [],
   "source": [
    "# Class 4-edge defect\n",
    "import random\n",
    "curclass = 3\n",
    "fig,ax=plt.subplots(2, 3)\n",
    "fig.set_size_inches(10,10)\n",
    "for i in range(2):\n",
    "    for j in range (3):\n",
    "        sel=random.randint(0,train_num)\n",
    "        while train_labels[sel]!=curclass:\n",
    "          sel +=1\n",
    "          if sel == train_num -1:\n",
    "            sel = 0\n",
    "        #sel=random.randint(0,train_num)\n",
    "        ax[i,j].imshow(train_images[sel], cmap='gray')\n",
    "        ax[i,j].set_title('No. {} Label:{} '.format(sel, train_labels[sel]))       \n",
    "plt.tight_layout()"
   ]
  },
  {
   "cell_type": "code",
   "execution_count": null,
   "metadata": {
    "colab": {},
    "colab_type": "code",
    "id": "QrLNwULy90IJ"
   },
   "outputs": [],
   "source": [
    "# Class 5-particle\n",
    "import random\n",
    "curclass = 5\n",
    "fig,ax=plt.subplots(2, 3)\n",
    "fig.set_size_inches(10,10)\n",
    "for i in range(2):\n",
    "    for j in range (3):\n",
    "        sel=random.randint(0,train_num)\n",
    "        while train_labels[sel]!=curclass:\n",
    "          sel +=1\n",
    "          if sel == train_num -1:\n",
    "            sel = 0\n",
    "        #sel=random.randint(0,train_num)\n",
    "        ax[i,j].imshow(train_images[sel], cmap='gray')\n",
    "        ax[i,j].set_title('No. {} Label:{} '.format(sel, train_labels[sel]))       \n",
    "plt.tight_layout()"
   ]
  },
  {
   "cell_type": "markdown",
   "metadata": {
    "colab_type": "text",
    "id": "eMxY9IGumAew"
   },
   "source": [
    "## Step 6: Show statistics of training images in the 6 classes"
   ]
  },
  {
   "cell_type": "code",
   "execution_count": null,
   "metadata": {
    "colab": {},
    "colab_type": "code",
    "id": "SGZkuGS3mTCO"
   },
   "outputs": [],
   "source": [
    "import numpy as np\n",
    "labels, counts = np.unique(xxxxxxxxxxxx, return_counts=True)\n",
    "print(labels, counts)"
   ]
  },
  {
   "cell_type": "code",
   "execution_count": null,
   "metadata": {
    "colab": {},
    "colab_type": "code",
    "id": "MTX_Anx0mWzQ"
   },
   "outputs": [],
   "source": [
    "fig = plt.figure(figsize=(8, 5))\n",
    "plt.bar(labels, counts, width=0.7, align='center')\n",
    "plt.title(\"Label Distribution\")\n",
    "plt.xlabel('Label')\n",
    "plt.ylabel('Count')\n",
    "plt.xticks(labels)\n",
    "plt.ylim(0, 680)\n",
    "\n",
    "for a, b in zip(labels, counts):\n",
    "    plt.text(a, b, '%d' % b, ha='center', va='bottom', fontsize=10)\n",
    "plt.show()"
   ]
  },
  {
   "cell_type": "markdown",
   "metadata": {
    "colab_type": "text",
    "id": "ZD4ZBffHX71W"
   },
   "source": [
    "# (B) TensorFlow 2.0 Keras applications with ImageNet models"
   ]
  },
  {
   "cell_type": "markdown",
   "metadata": {
    "colab_type": "text",
    "id": "nwc-pIjUFNmb"
   },
   "source": [
    "## Step 7: Tensorflow basic model training\n",
    "定義(define), 編譯(compile), 訓練(fit), 評估(evaluate), 預測(prediction）"
   ]
  },
  {
   "cell_type": "code",
   "execution_count": null,
   "metadata": {
    "colab": {},
    "colab_type": "code",
    "id": "iqQjygi1m_qS"
   },
   "outputs": [],
   "source": [
    "import tensorflow as tf\n",
    "print(tf.__version__)\n",
    "print(tf.config.list_physical_devices('GPU'))"
   ]
  },
  {
   "cell_type": "code",
   "execution_count": null,
   "metadata": {
    "colab": {},
    "colab_type": "code",
    "id": "c20jGAYlcW5j"
   },
   "outputs": [],
   "source": [
    "!nvidia-smi"
   ]
  },
  {
   "cell_type": "code",
   "execution_count": null,
   "metadata": {
    "colab": {},
    "colab_type": "code",
    "id": "ZxYH9F7wAGra"
   },
   "outputs": [],
   "source": [
    "mnist = tf.keras.datasets.mnist\n",
    "(x_train, y_train), (x_test, y_test) = mnist.load_data()\n",
    "x_train, x_test = xxxxxx / 255.0, xxxxxx / 255.0"
   ]
  },
  {
   "cell_type": "code",
   "execution_count": null,
   "metadata": {
    "colab": {},
    "colab_type": "code",
    "id": "V0-9g1yIALYt"
   },
   "outputs": [],
   "source": [
    "x_train = x_train[..., tf.nnnnnnn]\n",
    "x_test  = x_test[..., tf.nnnnnnn]\n",
    "print(x_train.shape)\n",
    "print(y_train.shape)"
   ]
  },
  {
   "cell_type": "code",
   "execution_count": null,
   "metadata": {
    "colab": {},
    "colab_type": "code",
    "id": "R8ZbsvLsAhra"
   },
   "outputs": [],
   "source": [
    "model = tf.keras.models.Sequential([\n",
    "    tf.keras.layers.Conv2D(filters = 32, kernel_size = (3,3),padding = 'Same', \n",
    "                 activation ='relu', input_shape = (28,28,1)),\n",
    "    tf.keras.layers.Conv2D(filters = 64, kernel_size = (3,3),padding = 'Same', \n",
    "                 activation ='relu'),\n",
    "    tf.keras.layers.MaxPool2D(pool_size=(2,2)),\n",
    "    tf.keras.layers.Dropout(0.25),\n",
    "    tf.keras.layers.Flatten(),\n",
    "    tf.keras.layers.Dense(128, activation='relu'),\n",
    "    tf.keras.layers.Dropout(0.5),\n",
    "    tf.keras.layers.Dense(10, activation='sssssss')\n",
    "])"
   ]
  },
  {
   "cell_type": "code",
   "execution_count": null,
   "metadata": {
    "colab": {},
    "colab_type": "code",
    "id": "GzifkxmEAnxc"
   },
   "outputs": [],
   "source": [
    "opt = tf.keras.optimizers.SGD(learning_rate=0.01) #lr =0.01\n",
    "loss_fn = tf.keras.losses.SSSSSSCategoricalCrossentropy(from_logits=True)\n"
   ]
  },
  {
   "cell_type": "code",
   "execution_count": null,
   "metadata": {
    "colab": {},
    "colab_type": "code",
    "id": "Mx1qPZhMC2h8"
   },
   "outputs": [],
   "source": [
    "model.compile(optimizer=opt, loss=loss_fn, metrics=['accuracy'])"
   ]
  },
  {
   "cell_type": "code",
   "execution_count": null,
   "metadata": {
    "colab": {},
    "colab_type": "code",
    "id": "-JAMGEz0CyQQ"
   },
   "outputs": [],
   "source": [
    "model.fff(x_train, y_train, epochs=5)"
   ]
  },
  {
   "cell_type": "code",
   "execution_count": null,
   "metadata": {
    "colab": {},
    "colab_type": "code",
    "id": "JUSlrsB5C7-K"
   },
   "outputs": [],
   "source": [
    "model.eeeeeeee(x_test,  y_test, verbose=1)"
   ]
  },
  {
   "cell_type": "code",
   "execution_count": null,
   "metadata": {
    "colab": {},
    "colab_type": "code",
    "id": "eQBQqZKmDFui"
   },
   "outputs": [],
   "source": [
    "y_predicts = model.ppppppp(x_test)\n",
    "y_predicts[0]"
   ]
  },
  {
   "cell_type": "code",
   "execution_count": null,
   "metadata": {
    "colab": {},
    "colab_type": "code",
    "id": "1KhPEN-vDTBk"
   },
   "outputs": [],
   "source": [
    "predicts = np.argmax(y_predicts,axis=1)\n",
    "print(predicts[:10])"
   ]
  },
  {
   "cell_type": "code",
   "execution_count": null,
   "metadata": {
    "colab": {},
    "colab_type": "code",
    "id": "7L40BlU6DrHH"
   },
   "outputs": [],
   "source": [
    "print(y_test[:10])"
   ]
  },
  {
   "cell_type": "markdown",
   "metadata": {
    "colab_type": "text",
    "id": "OQtcWITNcMHK"
   },
   "source": [
    "## Step 8: Keras Applications Models\n",
    "<img src=\"https://miro.medium.com/max/1571/1*XB4SlSGxGKFQbIBoil0aDg.png\" alt=\"Pre-train models\" width=\"500\">\n",
    "\n",
    "Pre-train models of tf.Keras includes Xception、VGG16、VGG19、ResNet50、InceptionV3、InceptionResNetV2、MobileNet、DenseNet、NASNet、MobileNetV2"
   ]
  },
  {
   "cell_type": "code",
   "execution_count": null,
   "metadata": {
    "colab": {},
    "colab_type": "code",
    "id": "YxLyEiuFEIgI"
   },
   "outputs": [],
   "source": [
    "from tensorflow.keras.applications import InceptionV3\n",
    "from tensorflow.keras.applications.inception_v3 import preprocess_input\n",
    "model = InceptionV3(include_top = True, input_shape=(299,299,3), weights=None, classes=num_classes)"
   ]
  },
  {
   "cell_type": "code",
   "execution_count": null,
   "metadata": {
    "colab": {},
    "colab_type": "code",
    "id": "WpyO_On4Egdx"
   },
   "outputs": [],
   "source": [
    "from tensorflow.keras.applications import Xception\n",
    "from tensorflow.keras.applications.xception import preprocess_input\n",
    "model = Xception(include_top = True, input_shape=(299,299,3), weights=None, classes=num_classes)"
   ]
  },
  {
   "cell_type": "code",
   "execution_count": null,
   "metadata": {
    "colab": {},
    "colab_type": "code",
    "id": "su_yDmG6EkkX"
   },
   "outputs": [],
   "source": [
    "from tensorflow.keras.applications import NASNetLarge\n",
    "from tensorflow.keras.applications.nasnet import preprocess_input\n",
    "model = NASNetLarge(include_top = True, input_shape=(299,299,3), weights=None, classes=num_classes)"
   ]
  },
  {
   "cell_type": "code",
   "execution_count": null,
   "metadata": {
    "colab": {},
    "colab_type": "code",
    "id": "yh36dHu0EtH_"
   },
   "outputs": [],
   "source": [
    "from tensorflow.keras.applications import InceptionResNetV2\n",
    "from tensorflow.keras.applications.inception_resnet_v2 import preprocess_input\n",
    "model = InceptionResNetV2(include_top = True, input_shape=(299,299,3), weights=None, classes=num_classes)"
   ]
  },
  {
   "cell_type": "code",
   "execution_count": null,
   "metadata": {
    "colab": {},
    "colab_type": "code",
    "id": "jZ8_jQYQExo3"
   },
   "outputs": [],
   "source": [
    "from tensorflow.keras.applications import MobileNetV2\n",
    "from tensorflow.keras.applications.mobilenet_v2 import preprocess_input\n",
    "model = MobileNetV2(include_top = True, input_shape=(299,299,3), weights=None, classes=num_classes)"
   ]
  },
  {
   "cell_type": "code",
   "execution_count": null,
   "metadata": {
    "colab": {},
    "colab_type": "code",
    "id": "_WZxmhSPE4D8"
   },
   "outputs": [],
   "source": [
    "from tensorflow.keras.applications import ResNet50V2\n",
    "from tensorflow.keras.applications.resnet_v2 import preprocess_input\n",
    "model = ResNet50V2(include_top = True, input_shape=(299,299,3), weights=None, classes=num_classes)"
   ]
  },
  {
   "cell_type": "markdown",
   "metadata": {
    "colab_type": "text",
    "id": "FCVO6g04GFMi"
   },
   "source": [
    "## Step 9: Keras Applications preprocess_input"
   ]
  },
  {
   "cell_type": "code",
   "execution_count": null,
   "metadata": {
    "colab": {},
    "colab_type": "code",
    "id": "PZzsTx4cHrze"
   },
   "outputs": [],
   "source": [
    "from tensorflow.keras.preprocessing.image import img_to_array\n",
    "from tensorflow.python.keras.applications.imagenet_utils import preprocess_input\n",
    "x = image.img_to_array(train_images[0])\n",
    "img_array = preprocess_input(x, mode = 'tf' )\n",
    "print(img_array[0 , 0 , 0])\n"
   ]
  },
  {
   "cell_type": "code",
   "execution_count": null,
   "metadata": {
    "colab": {},
    "colab_type": "code",
    "id": "JaW40jTcIh0g"
   },
   "outputs": [],
   "source": [
    "from tensorflow.keras.preprocessing.image import img_to_array\n",
    "from tensorflow.python.keras.applications.imagenet_utils import preprocess_input\n",
    "x = image.img_to_array(train_images[0])\n",
    "img_array = preprocess_input(x, mode = 'torch' )\n",
    "print(img_array[0 , 0 , 0])"
   ]
  },
  {
   "cell_type": "code",
   "execution_count": null,
   "metadata": {
    "colab": {},
    "colab_type": "code",
    "id": "BkwlHXQunZ02"
   },
   "outputs": [],
   "source": [
    "from tensorflow.keras.preprocessing.image import img_to_array\n",
    "from tensorflow.python.keras.applications.imagenet_utils import preprocess_input\n",
    "x = image.img_to_array(train_images[0])\n",
    "img_array = preprocess_input(x, mode = 'caffe' )\n",
    "print(img_array[0 , 0 , 0])"
   ]
  },
  {
   "cell_type": "markdown",
   "metadata": {
    "colab_type": "text",
    "id": "VDkl3H-woXKA"
   },
   "source": [
    "## Step 10: Tranfer learning\n",
    "<img src=\"https://miro.medium.com/max/1280/0*L8egayRvFZOAmvqc.png\" alt=\"Pre-train models\" width=\"500\">"
   ]
  },
  {
   "cell_type": "code",
   "execution_count": null,
   "metadata": {
    "colab": {},
    "colab_type": "code",
    "id": "5Y-15yJXn_LM"
   },
   "outputs": [],
   "source": [
    "from tensorflow.keras import Sequential\n",
    "from tensorflow.keras.models import Model\n",
    "from tensorflow.keras.layers import Dense, Activation, Flatten\n",
    "from tensorflow.keras.layers import Input\n",
    "from tensorflow.keras.layers import Dropout, Flatten, Activation\n",
    "from tensorflow.keras.layers import Conv2D, MaxPooling2D, GlobalAveragePooling2D\n",
    "from tensorflow.keras.optimizers import Adam,SGD,Adagrad,Adadelta,RMSprop"
   ]
  },
  {
   "cell_type": "code",
   "execution_count": null,
   "metadata": {
    "colab": {},
    "colab_type": "code",
    "id": "ZSObvzWmofw_"
   },
   "outputs": [],
   "source": [
    "#the InceptionV3 model \n",
    "num_classes = 6\n",
    "from tensorflow.keras.applications import InceptionV3\n",
    "base_model = InceptionV3(include_top = False, input_shape=(299,299,3), weights='imagenet', classes=num_classes)\n",
    "base_model.summary()"
   ]
  },
  {
   "cell_type": "code",
   "execution_count": null,
   "metadata": {
    "colab": {},
    "colab_type": "code",
    "id": "yv9FohfRfmRs"
   },
   "outputs": [],
   "source": [
    "base_model.trainable = False\n",
    "last_layer = base_model.output\n",
    "last_layer=Flatten()(last_layer)\n",
    "last_layer=Dropout(0.3)(last_layer)\n",
    "out = Dense(num_classes, activation='softmax', name='softmax')(last_layer)\n",
    "custom_model = Model(base_model.input, out)\n",
    "model.summary()"
   ]
  }
 ],
 "metadata": {
  "accelerator": "GPU",
  "colab": {
   "collapsed_sections": [],
   "machine_shape": "hm",
   "name": "aidea_aoi_ex1.ipynb",
   "provenance": [],
   "toc_visible": true
  },
  "kernelspec": {
   "display_name": "Python 3",
   "language": "python",
   "name": "python3"
  },
  "language_info": {
   "codemirror_mode": {
    "name": "ipython",
    "version": 3
   },
   "file_extension": ".py",
   "mimetype": "text/x-python",
   "name": "python",
   "nbconvert_exporter": "python",
   "pygments_lexer": "ipython3",
   "version": "3.7.6"
  }
 },
 "nbformat": 4,
 "nbformat_minor": 1
}
